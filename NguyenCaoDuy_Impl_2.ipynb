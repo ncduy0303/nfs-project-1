{
 "cells": [
  {
   "cell_type": "code",
   "execution_count": 1,
   "id": "dee27c22",
   "metadata": {
    "execution": {
     "iopub.execute_input": "2023-10-22T08:40:16.038462Z",
     "iopub.status.busy": "2023-10-22T08:40:16.037780Z",
     "iopub.status.idle": "2023-10-22T08:40:57.142980Z",
     "shell.execute_reply": "2023-10-22T08:40:57.141819Z"
    },
    "papermill": {
     "duration": 41.116417,
     "end_time": "2023-10-22T08:40:57.145725",
     "exception": false,
     "start_time": "2023-10-22T08:40:16.029308",
     "status": "completed"
    },
    "tags": []
   },
   "outputs": [
    {
     "name": "stdout",
     "output_type": "stream",
     "text": [
      "Requirement already satisfied: statsmodels in /opt/conda/lib/python3.10/site-packages (0.14.0)\r\n",
      "Collecting yfinance\r\n",
      "  Downloading yfinance-0.2.31-py2.py3-none-any.whl (65 kB)\r\n",
      "\u001b[2K     \u001b[90m━━━━━━━━━━━━━━━━━━━━━━━━━━━━━━━━━━━━━━━━\u001b[0m \u001b[32m65.6/65.6 kB\u001b[0m \u001b[31m2.5 MB/s\u001b[0m eta \u001b[36m0:00:00\u001b[0m\r\n",
      "\u001b[?25hCollecting pmdarima\r\n",
      "  Downloading pmdarima-2.0.3-cp310-cp310-manylinux_2_17_x86_64.manylinux2014_x86_64.manylinux_2_28_x86_64.whl (1.8 MB)\r\n",
      "\u001b[2K     \u001b[90m━━━━━━━━━━━━━━━━━━━━━━━━━━━━━━━━━━━━━━━━\u001b[0m \u001b[32m1.8/1.8 MB\u001b[0m \u001b[31m27.2 MB/s\u001b[0m eta \u001b[36m0:00:00\u001b[0m\r\n",
      "\u001b[?25hRequirement already satisfied: numpy>=1.18 in /opt/conda/lib/python3.10/site-packages (from statsmodels) (1.23.5)\r\n",
      "Requirement already satisfied: scipy!=1.9.2,>=1.4 in /opt/conda/lib/python3.10/site-packages (from statsmodels) (1.11.2)\r\n",
      "Requirement already satisfied: pandas>=1.0 in /opt/conda/lib/python3.10/site-packages (from statsmodels) (2.0.3)\r\n",
      "Requirement already satisfied: patsy>=0.5.2 in /opt/conda/lib/python3.10/site-packages (from statsmodels) (0.5.3)\r\n",
      "Requirement already satisfied: packaging>=21.3 in /opt/conda/lib/python3.10/site-packages (from statsmodels) (21.3)\r\n",
      "Requirement already satisfied: requests>=2.31 in /opt/conda/lib/python3.10/site-packages (from yfinance) (2.31.0)\r\n",
      "Collecting multitasking>=0.0.7 (from yfinance)\r\n",
      "  Downloading multitasking-0.0.11-py3-none-any.whl (8.5 kB)\r\n",
      "Requirement already satisfied: lxml>=4.9.1 in /opt/conda/lib/python3.10/site-packages (from yfinance) (4.9.3)\r\n",
      "Requirement already satisfied: appdirs>=1.4.4 in /opt/conda/lib/python3.10/site-packages (from yfinance) (1.4.4)\r\n",
      "Requirement already satisfied: pytz>=2022.5 in /opt/conda/lib/python3.10/site-packages (from yfinance) (2023.3)\r\n",
      "Requirement already satisfied: frozendict>=2.3.4 in /opt/conda/lib/python3.10/site-packages (from yfinance) (2.3.8)\r\n",
      "Collecting peewee>=3.16.2 (from yfinance)\r\n",
      "  Downloading peewee-3.17.0.tar.gz (2.9 MB)\r\n",
      "\u001b[2K     \u001b[90m━━━━━━━━━━━━━━━━━━━━━━━━━━━━━━━━━━━━━━━━\u001b[0m \u001b[32m2.9/2.9 MB\u001b[0m \u001b[31m64.3 MB/s\u001b[0m eta \u001b[36m0:00:00\u001b[0m\r\n",
      "\u001b[?25h  Installing build dependencies ... \u001b[?25l-\b \b\\\b \b|\b \b/\b \b-\b \bdone\r\n",
      "\u001b[?25h  Getting requirements to build wheel ... \u001b[?25l-\b \bdone\r\n",
      "\u001b[?25h  Preparing metadata (pyproject.toml) ... \u001b[?25l-\b \bdone\r\n",
      "\u001b[?25hRequirement already satisfied: beautifulsoup4>=4.11.1 in /opt/conda/lib/python3.10/site-packages (from yfinance) (4.12.2)\r\n",
      "Requirement already satisfied: html5lib>=1.1 in /opt/conda/lib/python3.10/site-packages (from yfinance) (1.1)\r\n",
      "Requirement already satisfied: joblib>=0.11 in /opt/conda/lib/python3.10/site-packages (from pmdarima) (1.3.2)\r\n",
      "Requirement already satisfied: Cython!=0.29.18,!=0.29.31,>=0.29 in /opt/conda/lib/python3.10/site-packages (from pmdarima) (0.29.35)\r\n",
      "Requirement already satisfied: scikit-learn>=0.22 in /opt/conda/lib/python3.10/site-packages (from pmdarima) (1.2.2)\r\n",
      "Requirement already satisfied: urllib3 in /opt/conda/lib/python3.10/site-packages (from pmdarima) (1.26.15)\r\n",
      "Requirement already satisfied: setuptools!=50.0.0,>=38.6.0 in /opt/conda/lib/python3.10/site-packages (from pmdarima) (68.0.0)\r\n",
      "Requirement already satisfied: soupsieve>1.2 in /opt/conda/lib/python3.10/site-packages (from beautifulsoup4>=4.11.1->yfinance) (2.3.2.post1)\r\n",
      "Requirement already satisfied: six>=1.9 in /opt/conda/lib/python3.10/site-packages (from html5lib>=1.1->yfinance) (1.16.0)\r\n",
      "Requirement already satisfied: webencodings in /opt/conda/lib/python3.10/site-packages (from html5lib>=1.1->yfinance) (0.5.1)\r\n",
      "Requirement already satisfied: pyparsing!=3.0.5,>=2.0.2 in /opt/conda/lib/python3.10/site-packages (from packaging>=21.3->statsmodels) (3.0.9)\r\n",
      "Requirement already satisfied: python-dateutil>=2.8.2 in /opt/conda/lib/python3.10/site-packages (from pandas>=1.0->statsmodels) (2.8.2)\r\n",
      "Requirement already satisfied: tzdata>=2022.1 in /opt/conda/lib/python3.10/site-packages (from pandas>=1.0->statsmodels) (2023.3)\r\n",
      "Requirement already satisfied: charset-normalizer<4,>=2 in /opt/conda/lib/python3.10/site-packages (from requests>=2.31->yfinance) (3.1.0)\r\n",
      "Requirement already satisfied: idna<4,>=2.5 in /opt/conda/lib/python3.10/site-packages (from requests>=2.31->yfinance) (3.4)\r\n",
      "Requirement already satisfied: certifi>=2017.4.17 in /opt/conda/lib/python3.10/site-packages (from requests>=2.31->yfinance) (2023.7.22)\r\n",
      "Requirement already satisfied: threadpoolctl>=2.0.0 in /opt/conda/lib/python3.10/site-packages (from scikit-learn>=0.22->pmdarima) (3.1.0)\r\n",
      "Building wheels for collected packages: peewee\r\n",
      "  Building wheel for peewee (pyproject.toml) ... \u001b[?25l-\b \b\\\b \b|\b \b/\b \bdone\r\n",
      "\u001b[?25h  Created wheel for peewee: filename=peewee-3.17.0-cp310-cp310-linux_x86_64.whl size=290463 sha256=4b1647332bd9b63b3f8e9a6eeeea5b414dfcde950cbac44d42426d1ce2a23283\r\n",
      "  Stored in directory: /root/.cache/pip/wheels/c7/70/ad/212867e96e7004265a69c4aa5dcff00a95f547a67ba26e7e76\r\n",
      "Successfully built peewee\r\n",
      "Installing collected packages: peewee, multitasking, yfinance, pmdarima\r\n",
      "Successfully installed multitasking-0.0.11 peewee-3.17.0 pmdarima-2.0.3 yfinance-0.2.31\r\n"
     ]
    }
   ],
   "source": [
    "!pip install statsmodels yfinance pmdarima"
   ]
  },
  {
   "cell_type": "code",
   "execution_count": 2,
   "id": "cb11135c",
   "metadata": {
    "execution": {
     "iopub.execute_input": "2023-10-22T08:40:57.166119Z",
     "iopub.status.busy": "2023-10-22T08:40:57.165709Z",
     "iopub.status.idle": "2023-10-22T08:40:59.155727Z",
     "shell.execute_reply": "2023-10-22T08:40:59.154725Z"
    },
    "papermill": {
     "duration": 2.003298,
     "end_time": "2023-10-22T08:40:59.158454",
     "exception": false,
     "start_time": "2023-10-22T08:40:57.155156",
     "status": "completed"
    },
    "tags": []
   },
   "outputs": [],
   "source": [
    "import yfinance as yf\n",
    "import numpy as np\n",
    "import matplotlib.pyplot as plt\n",
    "import pandas as pd\n",
    "import seaborn as sns\n",
    "sns.set_style('whitegrid')"
   ]
  },
  {
   "cell_type": "markdown",
   "id": "de95a272",
   "metadata": {
    "papermill": {
     "duration": 0.008724,
     "end_time": "2023-10-22T08:40:59.176548",
     "exception": false,
     "start_time": "2023-10-22T08:40:59.167824",
     "status": "completed"
    },
    "tags": []
   },
   "source": [
    "# Data\n",
    "\n",
    "We only need the closing price of NVDA itself to build an ARIMA model. We will use the data from the last 45 days to predict the price of the next 10 days (same as the previous notebook)."
   ]
  },
  {
   "cell_type": "code",
   "execution_count": 3,
   "id": "bac1d458",
   "metadata": {
    "execution": {
     "iopub.execute_input": "2023-10-22T08:40:59.196829Z",
     "iopub.status.busy": "2023-10-22T08:40:59.196235Z",
     "iopub.status.idle": "2023-10-22T08:41:00.227802Z",
     "shell.execute_reply": "2023-10-22T08:41:00.226458Z"
    },
    "papermill": {
     "duration": 1.045736,
     "end_time": "2023-10-22T08:41:00.231466",
     "exception": false,
     "start_time": "2023-10-22T08:40:59.185730",
     "status": "completed"
    },
    "tags": []
   },
   "outputs": [
    {
     "name": "stdout",
     "output_type": "stream",
     "text": [
      "[*********************100%%**********************]  1 of 1 completed\n"
     ]
    },
    {
     "data": {
      "text/html": [
       "<div>\n",
       "<style scoped>\n",
       "    .dataframe tbody tr th:only-of-type {\n",
       "        vertical-align: middle;\n",
       "    }\n",
       "\n",
       "    .dataframe tbody tr th {\n",
       "        vertical-align: top;\n",
       "    }\n",
       "\n",
       "    .dataframe thead th {\n",
       "        text-align: right;\n",
       "    }\n",
       "</style>\n",
       "<table border=\"1\" class=\"dataframe\">\n",
       "  <thead>\n",
       "    <tr style=\"text-align: right;\">\n",
       "      <th></th>\n",
       "      <th>Close</th>\n",
       "    </tr>\n",
       "  </thead>\n",
       "  <tbody>\n",
       "    <tr>\n",
       "      <th>0</th>\n",
       "      <td>432.989990</td>\n",
       "    </tr>\n",
       "    <tr>\n",
       "      <th>1</th>\n",
       "      <td>469.670013</td>\n",
       "    </tr>\n",
       "    <tr>\n",
       "      <th>2</th>\n",
       "      <td>456.679993</td>\n",
       "    </tr>\n",
       "    <tr>\n",
       "      <th>3</th>\n",
       "      <td>471.160004</td>\n",
       "    </tr>\n",
       "    <tr>\n",
       "      <th>4</th>\n",
       "      <td>471.630005</td>\n",
       "    </tr>\n",
       "    <tr>\n",
       "      <th>5</th>\n",
       "      <td>460.179993</td>\n",
       "    </tr>\n",
       "    <tr>\n",
       "      <th>6</th>\n",
       "      <td>468.350006</td>\n",
       "    </tr>\n",
       "    <tr>\n",
       "      <th>7</th>\n",
       "      <td>487.839996</td>\n",
       "    </tr>\n",
       "    <tr>\n",
       "      <th>8</th>\n",
       "      <td>492.640015</td>\n",
       "    </tr>\n",
       "    <tr>\n",
       "      <th>9</th>\n",
       "      <td>493.549988</td>\n",
       "    </tr>\n",
       "    <tr>\n",
       "      <th>10</th>\n",
       "      <td>485.089996</td>\n",
       "    </tr>\n",
       "    <tr>\n",
       "      <th>11</th>\n",
       "      <td>485.480011</td>\n",
       "    </tr>\n",
       "    <tr>\n",
       "      <th>12</th>\n",
       "      <td>470.609985</td>\n",
       "    </tr>\n",
       "    <tr>\n",
       "      <th>13</th>\n",
       "      <td>462.410004</td>\n",
       "    </tr>\n",
       "    <tr>\n",
       "      <th>14</th>\n",
       "      <td>455.720001</td>\n",
       "    </tr>\n",
       "    <tr>\n",
       "      <th>15</th>\n",
       "      <td>451.779999</td>\n",
       "    </tr>\n",
       "    <tr>\n",
       "      <th>16</th>\n",
       "      <td>448.700012</td>\n",
       "    </tr>\n",
       "    <tr>\n",
       "      <th>17</th>\n",
       "      <td>454.850006</td>\n",
       "    </tr>\n",
       "    <tr>\n",
       "      <th>18</th>\n",
       "      <td>455.809998</td>\n",
       "    </tr>\n",
       "    <tr>\n",
       "      <th>19</th>\n",
       "      <td>439.000000</td>\n",
       "    </tr>\n",
       "    <tr>\n",
       "      <th>20</th>\n",
       "      <td>439.660004</td>\n",
       "    </tr>\n",
       "    <tr>\n",
       "      <th>21</th>\n",
       "      <td>435.200012</td>\n",
       "    </tr>\n",
       "    <tr>\n",
       "      <th>22</th>\n",
       "      <td>422.390015</td>\n",
       "    </tr>\n",
       "    <tr>\n",
       "      <th>23</th>\n",
       "      <td>410.170013</td>\n",
       "    </tr>\n",
       "    <tr>\n",
       "      <th>24</th>\n",
       "      <td>416.100006</td>\n",
       "    </tr>\n",
       "    <tr>\n",
       "      <th>25</th>\n",
       "      <td>422.220001</td>\n",
       "    </tr>\n",
       "    <tr>\n",
       "      <th>26</th>\n",
       "      <td>419.109985</td>\n",
       "    </tr>\n",
       "    <tr>\n",
       "      <th>27</th>\n",
       "      <td>424.679993</td>\n",
       "    </tr>\n",
       "    <tr>\n",
       "      <th>28</th>\n",
       "      <td>430.890015</td>\n",
       "    </tr>\n",
       "    <tr>\n",
       "      <th>29</th>\n",
       "      <td>434.989990</td>\n",
       "    </tr>\n",
       "    <tr>\n",
       "      <th>30</th>\n",
       "      <td>447.820007</td>\n",
       "    </tr>\n",
       "    <tr>\n",
       "      <th>31</th>\n",
       "      <td>435.170013</td>\n",
       "    </tr>\n",
       "    <tr>\n",
       "      <th>32</th>\n",
       "      <td>440.410004</td>\n",
       "    </tr>\n",
       "    <tr>\n",
       "      <th>33</th>\n",
       "      <td>446.880005</td>\n",
       "    </tr>\n",
       "    <tr>\n",
       "      <th>34</th>\n",
       "      <td>457.619995</td>\n",
       "    </tr>\n",
       "    <tr>\n",
       "      <th>35</th>\n",
       "      <td>452.730011</td>\n",
       "    </tr>\n",
       "    <tr>\n",
       "      <th>36</th>\n",
       "      <td>457.980011</td>\n",
       "    </tr>\n",
       "    <tr>\n",
       "      <th>37</th>\n",
       "      <td>468.059998</td>\n",
       "    </tr>\n",
       "    <tr>\n",
       "      <th>38</th>\n",
       "      <td>469.450012</td>\n",
       "    </tr>\n",
       "    <tr>\n",
       "      <th>39</th>\n",
       "      <td>454.609985</td>\n",
       "    </tr>\n",
       "    <tr>\n",
       "      <th>40</th>\n",
       "      <td>460.950012</td>\n",
       "    </tr>\n",
       "    <tr>\n",
       "      <th>41</th>\n",
       "      <td>439.380005</td>\n",
       "    </tr>\n",
       "    <tr>\n",
       "      <th>42</th>\n",
       "      <td>421.959991</td>\n",
       "    </tr>\n",
       "    <tr>\n",
       "      <th>43</th>\n",
       "      <td>421.010010</td>\n",
       "    </tr>\n",
       "    <tr>\n",
       "      <th>44</th>\n",
       "      <td>413.869995</td>\n",
       "    </tr>\n",
       "  </tbody>\n",
       "</table>\n",
       "</div>"
      ],
      "text/plain": [
       "         Close\n",
       "0   432.989990\n",
       "1   469.670013\n",
       "2   456.679993\n",
       "3   471.160004\n",
       "4   471.630005\n",
       "5   460.179993\n",
       "6   468.350006\n",
       "7   487.839996\n",
       "8   492.640015\n",
       "9   493.549988\n",
       "10  485.089996\n",
       "11  485.480011\n",
       "12  470.609985\n",
       "13  462.410004\n",
       "14  455.720001\n",
       "15  451.779999\n",
       "16  448.700012\n",
       "17  454.850006\n",
       "18  455.809998\n",
       "19  439.000000\n",
       "20  439.660004\n",
       "21  435.200012\n",
       "22  422.390015\n",
       "23  410.170013\n",
       "24  416.100006\n",
       "25  422.220001\n",
       "26  419.109985\n",
       "27  424.679993\n",
       "28  430.890015\n",
       "29  434.989990\n",
       "30  447.820007\n",
       "31  435.170013\n",
       "32  440.410004\n",
       "33  446.880005\n",
       "34  457.619995\n",
       "35  452.730011\n",
       "36  457.980011\n",
       "37  468.059998\n",
       "38  469.450012\n",
       "39  454.609985\n",
       "40  460.950012\n",
       "41  439.380005\n",
       "42  421.959991\n",
       "43  421.010010\n",
       "44  413.869995"
      ]
     },
     "execution_count": 3,
     "metadata": {},
     "output_type": "execute_result"
    }
   ],
   "source": [
    "data = yf.download(\"NVDA\")\n",
    "data = data[['Close']][-45:].reset_index(drop=True)\n",
    "data"
   ]
  },
  {
   "cell_type": "markdown",
   "id": "68c9a2ca",
   "metadata": {
    "papermill": {
     "duration": 0.01126,
     "end_time": "2023-10-22T08:41:00.257111",
     "exception": false,
     "start_time": "2023-10-22T08:41:00.245851",
     "status": "completed"
    },
    "tags": []
   },
   "source": [
    "# Training"
   ]
  },
  {
   "cell_type": "markdown",
   "id": "223556f7",
   "metadata": {
    "papermill": {
     "duration": 0.009468,
     "end_time": "2023-10-22T08:41:00.276410",
     "exception": false,
     "start_time": "2023-10-22T08:41:00.266942",
     "status": "completed"
    },
    "tags": []
   },
   "source": [
    "### Manual\n",
    "\n",
    "We will analyse the data by ourselves and try to find the best parameters (p, d, q) for the ARIMA model."
   ]
  },
  {
   "cell_type": "markdown",
   "id": "e8eb2b91",
   "metadata": {
    "papermill": {
     "duration": 0.009891,
     "end_time": "2023-10-22T08:41:00.296094",
     "exception": false,
     "start_time": "2023-10-22T08:41:00.286203",
     "status": "completed"
    },
    "tags": []
   },
   "source": [
    "First, check if the series is stationary using the Augmented Dickey-Fuller (ADF) test. If the p-value of the test is less than the significance level (0.05) then we reject the null hypothesis and infer that the time series is indeed stationary."
   ]
  },
  {
   "cell_type": "code",
   "execution_count": 4,
   "id": "8557a3ee",
   "metadata": {
    "execution": {
     "iopub.execute_input": "2023-10-22T08:41:00.317707Z",
     "iopub.status.busy": "2023-10-22T08:41:00.317300Z",
     "iopub.status.idle": "2023-10-22T08:41:00.562395Z",
     "shell.execute_reply": "2023-10-22T08:41:00.560678Z"
    },
    "papermill": {
     "duration": 0.259674,
     "end_time": "2023-10-22T08:41:00.565695",
     "exception": false,
     "start_time": "2023-10-22T08:41:00.306021",
     "status": "completed"
    },
    "tags": []
   },
   "outputs": [
    {
     "name": "stdout",
     "output_type": "stream",
     "text": [
      "ADF Statistic: -1.361622\n",
      "p-value: 0.600530\n"
     ]
    }
   ],
   "source": [
    "from statsmodels.tsa.stattools import adfuller\n",
    "result = adfuller(data['Close'])\n",
    "print('ADF Statistic: %f' % result[0])\n",
    "print('p-value: %f' % result[1])"
   ]
  },
  {
   "cell_type": "markdown",
   "id": "cfaa6fc9",
   "metadata": {
    "papermill": {
     "duration": 0.009559,
     "end_time": "2023-10-22T08:41:00.585326",
     "exception": false,
     "start_time": "2023-10-22T08:41:00.575767",
     "status": "completed"
    },
    "tags": []
   },
   "source": [
    "This means we need to difference the series to make it stationary."
   ]
  },
  {
   "cell_type": "code",
   "execution_count": 5,
   "id": "f2d34c7c",
   "metadata": {
    "execution": {
     "iopub.execute_input": "2023-10-22T08:41:00.607870Z",
     "iopub.status.busy": "2023-10-22T08:41:00.607086Z",
     "iopub.status.idle": "2023-10-22T08:41:00.623537Z",
     "shell.execute_reply": "2023-10-22T08:41:00.622061Z"
    },
    "papermill": {
     "duration": 0.031421,
     "end_time": "2023-10-22T08:41:00.626634",
     "exception": false,
     "start_time": "2023-10-22T08:41:00.595213",
     "status": "completed"
    },
    "tags": []
   },
   "outputs": [
    {
     "name": "stdout",
     "output_type": "stream",
     "text": [
      "ADF Statistic: -7.572556\n",
      "p-value: 0.000000\n"
     ]
    }
   ],
   "source": [
    "# 1st Differencing\n",
    "first_diff = data.diff().dropna()\n",
    "result = adfuller(first_diff['Close'])\n",
    "print('ADF Statistic: %f' % result[0])\n",
    "print('p-value: %f' % result[1])"
   ]
  },
  {
   "cell_type": "code",
   "execution_count": 6,
   "id": "dead84f5",
   "metadata": {
    "execution": {
     "iopub.execute_input": "2023-10-22T08:41:00.650221Z",
     "iopub.status.busy": "2023-10-22T08:41:00.649379Z",
     "iopub.status.idle": "2023-10-22T08:41:01.565906Z",
     "shell.execute_reply": "2023-10-22T08:41:01.564707Z"
    },
    "papermill": {
     "duration": 0.931197,
     "end_time": "2023-10-22T08:41:01.568724",
     "exception": false,
     "start_time": "2023-10-22T08:41:00.637527",
     "status": "completed"
    },
    "tags": []
   },
   "outputs": [
    {
     "data": {
      "image/png": "[encoded data removed]",
      "text/plain": [
       "<Figure size 1080x360 with 3 Axes>"
      ]
     },
     "metadata": {},
     "output_type": "display_data"
    }
   ],
   "source": [
    "from statsmodels.graphics.tsaplots import plot_acf, plot_pacf\n",
    "plt.rcParams.update({'figure.figsize':(9,3), 'figure.dpi':120})\n",
    "\n",
    "fig, axes = plt.subplots(1, 3, sharex=True)\n",
    "axes[0].plot(first_diff); axes[0].set_title('1st Differencing')\n",
    "axes[1].set(ylim=(0,5))\n",
    "plot_pacf(first_diff, ax=axes[1])\n",
    "plot_acf(first_diff, ax=axes[2])\n",
    "\n",
    "plt.show()"
   ]
  },
  {
   "cell_type": "markdown",
   "id": "e85b8ced",
   "metadata": {
    "papermill": {
     "duration": 0.010561,
     "end_time": "2023-10-22T08:41:01.590216",
     "exception": false,
     "start_time": "2023-10-22T08:41:01.579655",
     "status": "completed"
    },
    "tags": []
   },
   "source": [
    "Since d=1 is enough to make the series stationary, we will use d=1.\n",
    "\n",
    "We can then look at the ACF and PACF plots to find the best parameters for (p, q).\n",
    "\n",
    "But instead of doing that which might lead to incorrect parameters, we will let the library find the best parameters for us."
   ]
  },
  {
   "cell_type": "markdown",
   "id": "d14a69fb",
   "metadata": {
    "papermill": {
     "duration": 0.010618,
     "end_time": "2023-10-22T08:41:01.611863",
     "exception": false,
     "start_time": "2023-10-22T08:41:01.601245",
     "status": "completed"
    },
    "tags": []
   },
   "source": [
    "### Auto\n",
    "\n",
    "We will use the sktime library to find the best parameters (p, d, q) for the ARIMA model automatically."
   ]
  },
  {
   "cell_type": "code",
   "execution_count": 7,
   "id": "ca3daf68",
   "metadata": {
    "execution": {
     "iopub.execute_input": "2023-10-22T08:41:01.635910Z",
     "iopub.status.busy": "2023-10-22T08:41:01.635101Z",
     "iopub.status.idle": "2023-10-22T08:41:04.442702Z",
     "shell.execute_reply": "2023-10-22T08:41:04.441534Z"
    },
    "papermill": {
     "duration": 2.824403,
     "end_time": "2023-10-22T08:41:04.447155",
     "exception": false,
     "start_time": "2023-10-22T08:41:01.622752",
     "status": "completed"
    },
    "tags": []
   },
   "outputs": [
    {
     "name": "stdout",
     "output_type": "stream",
     "text": [
      "                               SARIMAX Results                                \n",
      "==============================================================================\n",
      "Dep. Variable:                      y   No. Observations:                   45\n",
      "Model:               SARIMAX(1, 0, 0)   Log Likelihood                -171.171\n",
      "Date:                Sun, 22 Oct 2023   AIC                            348.342\n",
      "Time:                        08:41:04   BIC                            353.762\n",
      "Sample:                             0   HQIC                           350.363\n",
      "                                 - 45                                         \n",
      "Covariance Type:                  opg                                         \n",
      "==============================================================================\n",
      "                 coef    std err          z      P>|z|      [0.025      0.975]\n",
      "------------------------------------------------------------------------------\n",
      "intercept     47.0413     41.706      1.128      0.259     -34.700     128.783\n",
      "ar.L1          0.8938      0.092      9.696      0.000       0.713       1.074\n",
      "sigma2       113.7518     21.295      5.342      0.000      72.015     155.489\n",
      "===================================================================================\n",
      "Ljung-Box (L1) (Q):                   0.01   Jarque-Bera (JB):                 5.41\n",
      "Prob(Q):                              0.91   Prob(JB):                         0.07\n",
      "Heteroskedasticity (H):               0.64   Skew:                             0.62\n",
      "Prob(H) (two-sided):                  0.39   Kurtosis:                         4.17\n",
      "===================================================================================\n",
      "\n",
      "Warnings:\n",
      "[1] Covariance matrix calculated using the outer product of gradients (complex-step).\n"
     ]
    }
   ],
   "source": [
    "from pmdarima.arima import auto_arima\n",
    "\n",
    "y = data['Close'].values\n",
    "\n",
    "model = auto_arima(y, random_state=42, suppress_warnings=True)\n",
    "print(model.summary())"
   ]
  },
  {
   "cell_type": "markdown",
   "id": "fb341927",
   "metadata": {
    "papermill": {
     "duration": 0.015893,
     "end_time": "2023-10-22T08:41:04.486247",
     "exception": false,
     "start_time": "2023-10-22T08:41:04.470354",
     "status": "completed"
    },
    "tags": []
   },
   "source": [
    "# Inference"
   ]
  },
  {
   "cell_type": "code",
   "execution_count": 8,
   "id": "3d770657",
   "metadata": {
    "execution": {
     "iopub.execute_input": "2023-10-22T08:41:04.510277Z",
     "iopub.status.busy": "2023-10-22T08:41:04.509850Z",
     "iopub.status.idle": "2023-10-22T08:41:05.555027Z",
     "shell.execute_reply": "2023-10-22T08:41:05.553893Z"
    },
    "papermill": {
     "duration": 1.060011,
     "end_time": "2023-10-22T08:41:05.557500",
     "exception": false,
     "start_time": "2023-10-22T08:41:04.497489",
     "status": "completed"
    },
    "tags": []
   },
   "outputs": [
    {
     "name": "stdout",
     "output_type": "stream",
     "text": [
      "[*********************100%%**********************]  1 of 1 completed\n",
      "[416.94432511 419.69205769 422.14788851 424.34282736 426.30458977\n",
      " 428.05794692 429.62503848 431.02565213 432.27747342 433.39630912]\n"
     ]
    },
    {
     "data": {
      "image/png": "[encoded data removed]",
      "text/plain": [
       "<Figure size 720x480 with 1 Axes>"
      ]
     },
     "metadata": {},
     "output_type": "display_data"
    }
   ],
   "source": [
    "# Append the predictions to the original data frame\n",
    "data = yf.download(\"NVDA\")\n",
    "data = data[['Close']].reset_index(drop=True)\n",
    "original_data = data[-365:]['Close'].values\n",
    "\n",
    "horizon = 10\n",
    "y_pred = model.predict(horizon)\n",
    "\n",
    "print(y_pred)\n",
    "\n",
    "# Plot the predictions for both models\n",
    "plt.figure(figsize=(6, 4))\n",
    "plt.plot(original_data, label='Original')\n",
    "plt.plot(np.arange(365, 365 + horizon), y_pred, label='Rocket')\n",
    "plt.title('Predictions')\n",
    "plt.ylabel('Closing Price ($)')\n",
    "plt.legend()\n",
    "plt.show()"
   ]
  },
  {
   "cell_type": "markdown",
   "id": "678e7d76",
   "metadata": {
    "papermill": {
     "duration": 0.011936,
     "end_time": "2023-10-22T08:41:05.581770",
     "exception": false,
     "start_time": "2023-10-22T08:41:05.569834",
     "status": "completed"
    },
    "tags": []
   },
   "source": [
    "So the ARIMA model predict the price of NVDA to keep going up in the next 10 days."
   ]
  },
  {
   "cell_type": "code",
   "execution_count": 9,
   "id": "28b674f8",
   "metadata": {
    "execution": {
     "iopub.execute_input": "2023-10-22T08:41:05.608214Z",
     "iopub.status.busy": "2023-10-22T08:41:05.607785Z",
     "iopub.status.idle": "2023-10-22T08:41:05.620241Z",
     "shell.execute_reply": "2023-10-22T08:41:05.619135Z"
    },
    "papermill": {
     "duration": 0.028324,
     "end_time": "2023-10-22T08:41:05.622462",
     "exception": false,
     "start_time": "2023-10-22T08:41:05.594138",
     "status": "completed"
    },
    "tags": []
   },
   "outputs": [
    {
     "data": {
      "text/html": [
       "<div>\n",
       "<style scoped>\n",
       "    .dataframe tbody tr th:only-of-type {\n",
       "        vertical-align: middle;\n",
       "    }\n",
       "\n",
       "    .dataframe tbody tr th {\n",
       "        vertical-align: top;\n",
       "    }\n",
       "\n",
       "    .dataframe thead th {\n",
       "        text-align: right;\n",
       "    }\n",
       "</style>\n",
       "<table border=\"1\" class=\"dataframe\">\n",
       "  <thead>\n",
       "    <tr style=\"text-align: right;\">\n",
       "      <th></th>\n",
       "      <th>Close</th>\n",
       "    </tr>\n",
       "    <tr>\n",
       "      <th>index</th>\n",
       "      <th></th>\n",
       "    </tr>\n",
       "  </thead>\n",
       "  <tbody>\n",
       "    <tr>\n",
       "      <th>0</th>\n",
       "      <td>416.944325</td>\n",
       "    </tr>\n",
       "    <tr>\n",
       "      <th>1</th>\n",
       "      <td>419.692058</td>\n",
       "    </tr>\n",
       "    <tr>\n",
       "      <th>2</th>\n",
       "      <td>422.147889</td>\n",
       "    </tr>\n",
       "    <tr>\n",
       "      <th>3</th>\n",
       "      <td>424.342827</td>\n",
       "    </tr>\n",
       "    <tr>\n",
       "      <th>4</th>\n",
       "      <td>426.304590</td>\n",
       "    </tr>\n",
       "    <tr>\n",
       "      <th>5</th>\n",
       "      <td>428.057947</td>\n",
       "    </tr>\n",
       "    <tr>\n",
       "      <th>6</th>\n",
       "      <td>429.625038</td>\n",
       "    </tr>\n",
       "    <tr>\n",
       "      <th>7</th>\n",
       "      <td>431.025652</td>\n",
       "    </tr>\n",
       "    <tr>\n",
       "      <th>8</th>\n",
       "      <td>432.277473</td>\n",
       "    </tr>\n",
       "    <tr>\n",
       "      <th>9</th>\n",
       "      <td>433.396309</td>\n",
       "    </tr>\n",
       "  </tbody>\n",
       "</table>\n",
       "</div>"
      ],
      "text/plain": [
       "            Close\n",
       "index            \n",
       "0      416.944325\n",
       "1      419.692058\n",
       "2      422.147889\n",
       "3      424.342827\n",
       "4      426.304590\n",
       "5      428.057947\n",
       "6      429.625038\n",
       "7      431.025652\n",
       "8      432.277473\n",
       "9      433.396309"
      ]
     },
     "execution_count": 9,
     "metadata": {},
     "output_type": "execute_result"
    }
   ],
   "source": [
    "df_submission = pd.DataFrame(y_pred, columns=['Close'])\n",
    "df_submission.index.name = 'index'\n",
    "df_submission"
   ]
  },
  {
   "cell_type": "code",
   "execution_count": 10,
   "id": "65de6efe",
   "metadata": {
    "execution": {
     "iopub.execute_input": "2023-10-22T08:41:05.649457Z",
     "iopub.status.busy": "2023-10-22T08:41:05.648507Z",
     "iopub.status.idle": "2023-10-22T08:41:05.658447Z",
     "shell.execute_reply": "2023-10-22T08:41:05.657292Z"
    },
    "papermill": {
     "duration": 0.026158,
     "end_time": "2023-10-22T08:41:05.661059",
     "exception": false,
     "start_time": "2023-10-22T08:41:05.634901",
     "status": "completed"
    },
    "tags": []
   },
   "outputs": [],
   "source": [
    "df_submission.to_csv(\"submission.csv\")"
   ]
  }
 ],
 "metadata": {
  "kernelspec": {
   "display_name": "Python 3",
   "language": "python",
   "name": "python3"
  },
  "language_info": {
   "codemirror_mode": {
    "name": "ipython",
    "version": 3
   },
   "file_extension": ".py",
   "mimetype": "text/x-python",
   "name": "python",
   "nbconvert_exporter": "python",
   "pygments_lexer": "ipython3",
   "version": "3.10.12"
  },
  "papermill": {
   "default_parameters": {},
   "duration": 53.905036,
   "end_time": "2023-10-22T08:41:06.395144",
   "environment_variables": {},
   "exception": null,
   "input_path": "__notebook__.ipynb",
   "output_path": "__notebook__.ipynb",
   "parameters": {},
   "start_time": "2023-10-22T08:40:12.490108",
   "version": "2.4.0"
  }
 },
 "nbformat": 4,
 "nbformat_minor": 5
}
